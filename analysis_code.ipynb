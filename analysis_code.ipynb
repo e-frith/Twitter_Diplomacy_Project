{
 "cells": [
  {
   "cell_type": "markdown",
   "metadata": {},
   "source": [
    "# Twitter Diplomacy Study:\n",
    "### An Analysis of President Trump and Secretary Pompeo's Twitter Activity from 08/07/2019 to 11/18/2019\n",
    "  \n",
    "  \n",
    "**Ellie Frith**\n",
    "  \n",
    " **November 11, 2019**"
   ]
  },
  {
   "cell_type": "markdown",
   "metadata": {},
   "source": [
    "**Part I: Analysis of General Twitter Diplomacy Use**\n",
    "- Reading in data\n",
    "- Extracting summary statistics & examining data set:\n",
    "    - number and proportion of diplomacy-related tweets for each user\n",
    "        - permutation test for difference in proportions\n",
    "    - number and names of diplomatic entities/ subject areas mentioned by each user\n",
    "        - permutation test for difference in # of unique diplomatic entities mentioned by each user"
   ]
  },
  {
   "cell_type": "markdown",
   "metadata": {},
   "source": [
    "**Read in data:**"
   ]
  },
  {
   "cell_type": "code",
   "execution_count": 1,
   "metadata": {},
   "outputs": [],
   "source": [
    "import pandas as pd"
   ]
  },
  {
   "cell_type": "code",
   "execution_count": 2,
   "metadata": {},
   "outputs": [],
   "source": [
    "pompeo_tweets = pd.read_csv('pompeo.csv')\n",
    "trump_tweets = pd.read_csv('trump.csv')"
   ]
  },
  {
   "cell_type": "markdown",
   "metadata": {},
   "source": [
    "**Number and Proportion of Diplomatic Tweets for each user:**"
   ]
  },
  {
   "cell_type": "code",
   "execution_count": 3,
   "metadata": {},
   "outputs": [
    {
     "data": {
      "text/plain": [
       "334"
      ]
     },
     "execution_count": 3,
     "metadata": {},
     "output_type": "execute_result"
    }
   ],
   "source": [
    "sum(trump_tweets.is_diplomatic)"
   ]
  },
  {
   "cell_type": "code",
   "execution_count": 4,
   "metadata": {},
   "outputs": [
    {
     "data": {
      "text/plain": [
       "305"
      ]
     },
     "execution_count": 4,
     "metadata": {},
     "output_type": "execute_result"
    }
   ],
   "source": [
    "sum(pompeo_tweets.is_diplomatic)"
   ]
  },
  {
   "cell_type": "code",
   "execution_count": 5,
   "metadata": {},
   "outputs": [
    {
     "data": {
      "text/plain": [
       "1583"
      ]
     },
     "execution_count": 5,
     "metadata": {},
     "output_type": "execute_result"
    }
   ],
   "source": [
    "len(trump_tweets)"
   ]
  },
  {
   "cell_type": "code",
   "execution_count": 6,
   "metadata": {},
   "outputs": [
    {
     "data": {
      "text/plain": [
       "407"
      ]
     },
     "execution_count": 6,
     "metadata": {},
     "output_type": "execute_result"
    }
   ],
   "source": [
    "len(pompeo_tweets)"
   ]
  },
  {
   "cell_type": "code",
   "execution_count": 7,
   "metadata": {},
   "outputs": [
    {
     "data": {
      "text/plain": [
       "-0.538393961640961"
      ]
     },
     "execution_count": 7,
     "metadata": {},
     "output_type": "execute_result"
    }
   ],
   "source": [
    "# Difference in proportion of diplomacy-related tweets between trump and pompeo:\n",
    "test_stat = (sum(trump_tweets.is_diplomatic)/len(trump_tweets))-(sum(pompeo_tweets.is_diplomatic)/len(pompeo_tweets))\n",
    "test_stat"
   ]
  },
  {
   "cell_type": "markdown",
   "metadata": {},
   "source": [
    "**Permutation test for difference in proportion of diplomatic tweets:**"
   ]
  },
  {
   "cell_type": "code",
   "execution_count": 8,
   "metadata": {},
   "outputs": [],
   "source": [
    "# Combine dataframes, including only key column\n",
    "sub_df = [trump_tweets[['is_diplomatic']],pompeo_tweets[['is_diplomatic']]]\n",
    "combined = pd.concat(sub_df, ignore_index = True)"
   ]
  },
  {
   "cell_type": "code",
   "execution_count": 9,
   "metadata": {},
   "outputs": [],
   "source": [
    "# Perform permutation test (n = 10,000)\n",
    "import numpy as np\n",
    "import random\n",
    "\n",
    "trump_count = len(trump_tweets)\n",
    "\n",
    "prop_perm_test = np.zeros(10000)\n",
    "  \n",
    "for i in range(10000):\n",
    "    \n",
    "    # Select tweet indices randomly and assign to trump/ pompeo\n",
    "    random_indices = random.sample(range(len(combined)),len(combined))\n",
    "    trump_df = combined.loc[random_indices[0:trump_count]]\n",
    "    pompeo_df = combined.loc[random_indices[trump_count:]]\n",
    " \n",
    "    # Find proportions of diplomatic tweets for each and difference:\n",
    "    trump_prop = trump_df.is_diplomatic.sum()/len(trump_df)\n",
    "    pompeo_prop = pompeo_df.is_diplomatic.sum()/len(pompeo_df)\n",
    "    \n",
    "    prop_perm_test[i] = trump_prop-pompeo_prop"
   ]
  },
  {
   "cell_type": "code",
   "execution_count": 10,
   "metadata": {},
   "outputs": [
    {
     "data": {
      "text/plain": [
       "0.0"
      ]
     },
     "execution_count": 10,
     "metadata": {},
     "output_type": "execute_result"
    }
   ],
   "source": [
    "# Probablility of seeing this large or larger of a difference in proportion of diplomacy-related tweets is \n",
    "# essentially zero\n",
    "sum(abs(prop_perm_test)>=abs(test_stat))/10000"
   ]
  },
  {
   "cell_type": "markdown",
   "metadata": {},
   "source": [
    "**Names of diplomatic entities mentioned by each user:**"
   ]
  },
  {
   "cell_type": "code",
   "execution_count": 11,
   "metadata": {},
   "outputs": [],
   "source": [
    "# Functions to reformat entities from tweets: (have as single string with multiple entities, want list):\n",
    "    # Current format = single string, with multiple entities separated by comma\n",
    "    # Desired format = list, in which each entity is a single string\n",
    "    \n",
    "def entity_reformat(entities):\n",
    "    good_chars = 'abcdefghijklmnopqrstuvwxyzABCDEFGHIJKLMNOPQRSTUVWXYZ1234567890,- '\n",
    "    if pd.isnull(entities)==False:\n",
    "        string = ''.join(i for i in entities if i in good_chars)\n",
    "        string_list = string.split(',')\n",
    "        for string in string_list:\n",
    "            string = string.strip()\n",
    "    else:\n",
    "        string_list = entities   \n",
    "    return(string_list)\n",
    "\n",
    "trump_tweets.entities_mentioned = trump_tweets.entities_mentioned.apply(entity_reformat)\n",
    "pompeo_tweets.entities_mentioned = pompeo_tweets.entities_mentioned.apply(entity_reformat)"
   ]
  },
  {
   "cell_type": "code",
   "execution_count": 12,
   "metadata": {},
   "outputs": [],
   "source": [
    "# Function to create list of all entity mentions by each user (includes duplicates)\n",
    "\n",
    "def entity_list(df):\n",
    "    entity_list = []\n",
    "    for i in df.entities_mentioned:\n",
    "        if type(i)!=float:\n",
    "            for item in i:\n",
    "                string = item.strip()\n",
    "                entity_list.append(string)      \n",
    "    return entity_list\n",
    "\n",
    "trump_entity_list = entity_list(trump_tweets)\n",
    "pompeo_entity_list = entity_list(pompeo_tweets)"
   ]
  },
  {
   "cell_type": "markdown",
   "metadata": {},
   "source": [
    "**Number of Unique Entities Mentioned by Each User:**"
   ]
  },
  {
   "cell_type": "code",
   "execution_count": 13,
   "metadata": {},
   "outputs": [
    {
     "data": {
      "text/plain": [
       "52"
      ]
     },
     "execution_count": 13,
     "metadata": {},
     "output_type": "execute_result"
    }
   ],
   "source": [
    "# Number of unique entities mentioned by Trump\n",
    "trump_entity_set = set(trump_entity_list)\n",
    "len(trump_entity_set)"
   ]
  },
  {
   "cell_type": "code",
   "execution_count": 14,
   "metadata": {},
   "outputs": [
    {
     "data": {
      "text/plain": [
       "111"
      ]
     },
     "execution_count": 14,
     "metadata": {},
     "output_type": "execute_result"
    }
   ],
   "source": [
    "# Number of unique entities mentioned by Pompeo \n",
    "pompeo_entity_set = set(pompeo_entity_list)\n",
    "len(pompeo_entity_set)"
   ]
  },
  {
   "cell_type": "markdown",
   "metadata": {},
   "source": [
    "**Permutation Test for Difference in Number of Unique Entities Mentioned:**"
   ]
  },
  {
   "cell_type": "code",
   "execution_count": 16,
   "metadata": {},
   "outputs": [
    {
     "data": {
      "text/plain": [
       "-59"
      ]
     },
     "execution_count": 16,
     "metadata": {},
     "output_type": "execute_result"
    }
   ],
   "source": [
    "test_stat = len(trump_entity_set)-len(pompeo_entity_set)\n",
    "test_stat"
   ]
  },
  {
   "cell_type": "code",
   "execution_count": 17,
   "metadata": {},
   "outputs": [],
   "source": [
    "# Create sub-dataframe with only desired column:\n",
    "sub_df = [trump_tweets[['entities_mentioned']],pompeo_tweets[['entities_mentioned']]]\n",
    "\n",
    "# Combine the tweet dataframes of the two users so that tweets can be permuted:\n",
    "combined = pd.concat(sub_df, ignore_index = True)\n",
    "\n",
    "# Perform Permutation Test (n=10,000)\n",
    "unique_entity_perm_test = np.zeros(10000)\n",
    "    \n",
    "trump_count = len(trump_tweets)\n",
    "\n",
    "  \n",
    "for i in range(10000):\n",
    "    \n",
    "    # Select tweet indices randomly and assign to trump/ pompeo\n",
    "    random_indices = random.sample(range(len(combined)),len(combined))\n",
    "    trump_df = combined.loc[random_indices[0:trump_count]]\n",
    "    pompeo_df = combined.loc[random_indices[trump_count:]]\n",
    " \n",
    "    # Find proportions of diplomatic tweets for each and difference:\n",
    "    trump_unique_count = len(set(entity_list(trump_df)))\n",
    "    pompeo_unique_count = len(set(entity_list(pompeo_df)))\n",
    "    \n",
    "    unique_entity_perm_test[i] = trump_unique_count-pompeo_unique_count"
   ]
  },
  {
   "cell_type": "code",
   "execution_count": 18,
   "metadata": {},
   "outputs": [
    {
     "data": {
      "text/plain": [
       "0.0579"
      ]
     },
     "execution_count": 18,
     "metadata": {},
     "output_type": "execute_result"
    }
   ],
   "source": [
    "# Calculate p-value:\n",
    "sum(abs(unique_entity_perm_test)>=abs(test_stat))/10000"
   ]
  },
  {
   "cell_type": "markdown",
   "metadata": {},
   "source": [
    "**Part II: Relative Frequency of Specific Diplomatic Entity References in Diplomatic Tweets for Trump vs. Pompeo**\n",
    "- calculate number of times each diplomatic entity was referenced by Trump vs Pompeo\n",
    "- caluclate proportion of user's diplomatic tweets in which entity was referenced (proxy for importance of entity)\n",
    "- calculate test statistic:\n",
    "    - difference in proportion of mentions for each entity b/w users (trump-pompeo)\n",
    "- Permutation tests for significance of test statistic for each entity:\n",
    "    - do this 1000 times:\n",
    "        - permute tweets between users \n",
    "        - calculate difference in proportions between users for each entity\n",
    "    - find proportion of times difference was greater than or equal to test statistic for each test stat & entity\n",
    "        - = p-value of difference in proportions for each entity "
   ]
  },
  {
   "cell_type": "code",
   "execution_count": 19,
   "metadata": {},
   "outputs": [],
   "source": [
    "# Create new dataframe to fill with diplomatic entity reference information\n",
    "entity_df = pd.DataFrame(pompeo_entity_set.union(trump_entity_set))\n",
    "entity_df.rename(columns = {0:'entity'}, inplace = True)"
   ]
  },
  {
   "cell_type": "markdown",
   "metadata": {},
   "source": [
    "**Calculate the number of times each entity was mentioned by Pompeo vs Trump:**"
   ]
  },
  {
   "cell_type": "code",
   "execution_count": 20,
   "metadata": {},
   "outputs": [],
   "source": [
    "def entity_count(entity,entity_list):\n",
    "    count = 0\n",
    "    for i in entity_list:\n",
    "        if entity in i:\n",
    "            count = count+1\n",
    "    return count"
   ]
  },
  {
   "cell_type": "code",
   "execution_count": 21,
   "metadata": {},
   "outputs": [],
   "source": [
    "entity_df['trump_count'] = entity_df.entity.apply(lambda x: entity_count(x, trump_entity_list))\n",
    "entity_df['pompeo_count'] = entity_df.entity.apply(lambda x: entity_count(x, pompeo_entity_list))"
   ]
  },
  {
   "cell_type": "markdown",
   "metadata": {},
   "source": [
    "**Calculate proportion of user's diplomatic tweets that reference each entity:**"
   ]
  },
  {
   "cell_type": "code",
   "execution_count": 22,
   "metadata": {},
   "outputs": [],
   "source": [
    "# Find proportion of diplomatic tweets in which each entity is mentioned: (relative importance)\n",
    "entity_df['trump_prop'] = entity_df['trump_count']/len(trump_tweets[trump_tweets.is_diplomatic==1])\n",
    "entity_df['pompeo_prop'] = entity_df['pompeo_count']/len(pompeo_tweets[pompeo_tweets.is_diplomatic==1])"
   ]
  },
  {
   "cell_type": "markdown",
   "metadata": {},
   "source": [
    "**Calculate test statistic: difference in proportions between users for each entity**"
   ]
  },
  {
   "cell_type": "code",
   "execution_count": 23,
   "metadata": {},
   "outputs": [],
   "source": [
    "entity_df['prop_difference'] = entity_df.trump_prop-entity_df.pompeo_prop"
   ]
  },
  {
   "cell_type": "markdown",
   "metadata": {},
   "source": [
    "**Combine tweet dataframes in preparation for permutation test:**"
   ]
  },
  {
   "cell_type": "code",
   "execution_count": 28,
   "metadata": {},
   "outputs": [],
   "source": [
    "# First: combine datasets of trump diplomatic tweets and pompeo diplomatic tweets into one\n",
    "pompeo_tweets['user'] = 'pompeo'\n",
    "trump_tweets['user'] = 'trump'\n",
    "\n",
    "diplom_sub = [trump_tweets[trump_tweets.is_diplomatic==1],pompeo_tweets[pompeo_tweets.is_diplomatic==1]]\n",
    "\n",
    "combined_tweets = pd.concat(diplom_sub, ignore_index = True)\n",
    "combined_tweets = combined_tweets[['entities_mentioned','user']]"
   ]
  },
  {
   "cell_type": "markdown",
   "metadata": {},
   "source": [
    "**Permutation test for difference in mention counts:**"
   ]
  },
  {
   "cell_type": "code",
   "execution_count": 29,
   "metadata": {},
   "outputs": [],
   "source": [
    "# Perform permutation test for difference in mention counts (n=10,000):\n",
    "\n",
    "entity_prop_perm_test = np.zeros(shape=(len(entity_df),10000))\n",
    "\n",
    "entities = entity_df[['entity']]\n",
    "num_trump = len(combined_tweets[combined_tweets.user=='trump'])\n",
    "    \n",
    "for i in range(10000):\n",
    "    \n",
    "    # Select tweet indices randomly and assign to trump/ pompeo\n",
    "    random_indices = random.sample(range(len(combined_tweets)),len(combined_tweets))\n",
    "    trump_df = combined_tweets.loc[random_indices[0:num_trump]]\n",
    "    pompeo_df = combined_tweets.loc[random_indices[num_trump:]]\n",
    "        \n",
    "    # Find list of entities_mentioned:\n",
    "    trump_list = entity_list(trump_df)\n",
    "    pompeo_list = entity_list(pompeo_df)\n",
    "    \n",
    "    # Find proportion of tweets mentioning each entity\n",
    "    trump_prop = entities.entity.apply(lambda x: entity_count(x, trump_list))/len(trump_df)\n",
    "    pompeo_prop = entities.entity.apply(lambda x: entity_count(x, pompeo_entity_list))/len(pompeo_df)\n",
    "     \n",
    "    # Find difference\n",
    "    entity_prop_perm_test[:,i] = trump_prop-pompeo_prop"
   ]
  },
  {
   "cell_type": "markdown",
   "metadata": {},
   "source": [
    "**Calculate permutation test p-value:**"
   ]
  },
  {
   "cell_type": "code",
   "execution_count": 37,
   "metadata": {},
   "outputs": [],
   "source": [
    "# Calculate proportion of permutations in which absolute value of difference in mentions was greater than or equal to\n",
    "# the absolute value of the observed difference in data (p-value for each entity)\n",
    "entity_prop_perm_test = pd.DataFrame(abs(entity_prop_perm_test))\n",
    "test_stat = abs(entity_df.prop_difference)\n",
    "\n",
    "# Compare row-wise to see if permutation proportion is greater than or equal to test stat\n",
    "entity_prop_perm_test = entity_prop_perm_test.ge(test_stat, axis = 0)\n",
    "\n",
    "entity_df['prop_p_val'] = entity_prop_perm_test.sum(axis=1)/10000"
   ]
  },
  {
   "cell_type": "code",
   "execution_count": 42,
   "metadata": {},
   "outputs": [
    {
     "data": {
      "text/html": [
       "<div>\n",
       "<style scoped>\n",
       "    .dataframe tbody tr th:only-of-type {\n",
       "        vertical-align: middle;\n",
       "    }\n",
       "\n",
       "    .dataframe tbody tr th {\n",
       "        vertical-align: top;\n",
       "    }\n",
       "\n",
       "    .dataframe thead th {\n",
       "        text-align: right;\n",
       "    }\n",
       "</style>\n",
       "<table border=\"1\" class=\"dataframe\">\n",
       "  <thead>\n",
       "    <tr style=\"text-align: right;\">\n",
       "      <th></th>\n",
       "      <th>entity</th>\n",
       "      <th>trump_count</th>\n",
       "      <th>pompeo_count</th>\n",
       "      <th>trump_prop</th>\n",
       "      <th>pompeo_prop</th>\n",
       "      <th>prop_difference</th>\n",
       "      <th>prop_p_val</th>\n",
       "    </tr>\n",
       "  </thead>\n",
       "  <tbody>\n",
       "    <tr>\n",
       "      <th>0</th>\n",
       "      <td>China</td>\n",
       "      <td>78</td>\n",
       "      <td>14</td>\n",
       "      <td>0.233533</td>\n",
       "      <td>0.045902</td>\n",
       "      <td>0.187631</td>\n",
       "      <td>0.0000</td>\n",
       "    </tr>\n",
       "    <tr>\n",
       "      <th>11</th>\n",
       "      <td>Iran</td>\n",
       "      <td>10</td>\n",
       "      <td>63</td>\n",
       "      <td>0.029940</td>\n",
       "      <td>0.206557</td>\n",
       "      <td>-0.176617</td>\n",
       "      <td>0.0000</td>\n",
       "    </tr>\n",
       "    <tr>\n",
       "      <th>14</th>\n",
       "      <td>Iraq</td>\n",
       "      <td>2</td>\n",
       "      <td>8</td>\n",
       "      <td>0.005988</td>\n",
       "      <td>0.026230</td>\n",
       "      <td>-0.020241</td>\n",
       "      <td>0.0366</td>\n",
       "    </tr>\n",
       "    <tr>\n",
       "      <th>22</th>\n",
       "      <td>Pacific Islands</td>\n",
       "      <td>0</td>\n",
       "      <td>4</td>\n",
       "      <td>0.000000</td>\n",
       "      <td>0.013115</td>\n",
       "      <td>-0.013115</td>\n",
       "      <td>0.0497</td>\n",
       "    </tr>\n",
       "    <tr>\n",
       "      <th>26</th>\n",
       "      <td>Venezuela</td>\n",
       "      <td>1</td>\n",
       "      <td>26</td>\n",
       "      <td>0.002994</td>\n",
       "      <td>0.085246</td>\n",
       "      <td>-0.082252</td>\n",
       "      <td>0.0000</td>\n",
       "    </tr>\n",
       "    <tr>\n",
       "      <th>28</th>\n",
       "      <td>Saudi Arabia</td>\n",
       "      <td>3</td>\n",
       "      <td>11</td>\n",
       "      <td>0.008982</td>\n",
       "      <td>0.036066</td>\n",
       "      <td>-0.027084</td>\n",
       "      <td>0.0183</td>\n",
       "    </tr>\n",
       "    <tr>\n",
       "      <th>31</th>\n",
       "      <td>Turkey</td>\n",
       "      <td>33</td>\n",
       "      <td>12</td>\n",
       "      <td>0.098802</td>\n",
       "      <td>0.039344</td>\n",
       "      <td>0.059458</td>\n",
       "      <td>0.0025</td>\n",
       "    </tr>\n",
       "    <tr>\n",
       "      <th>42</th>\n",
       "      <td>Cuba</td>\n",
       "      <td>1</td>\n",
       "      <td>8</td>\n",
       "      <td>0.002994</td>\n",
       "      <td>0.026230</td>\n",
       "      <td>-0.023235</td>\n",
       "      <td>0.0138</td>\n",
       "    </tr>\n",
       "    <tr>\n",
       "      <th>44</th>\n",
       "      <td>Kurds</td>\n",
       "      <td>24</td>\n",
       "      <td>0</td>\n",
       "      <td>0.071856</td>\n",
       "      <td>0.000000</td>\n",
       "      <td>0.071856</td>\n",
       "      <td>0.0000</td>\n",
       "    </tr>\n",
       "    <tr>\n",
       "      <th>49</th>\n",
       "      <td>UN</td>\n",
       "      <td>5</td>\n",
       "      <td>27</td>\n",
       "      <td>0.014970</td>\n",
       "      <td>0.088525</td>\n",
       "      <td>-0.073555</td>\n",
       "      <td>0.0000</td>\n",
       "    </tr>\n",
       "    <tr>\n",
       "      <th>51</th>\n",
       "      <td>Lebanon</td>\n",
       "      <td>0</td>\n",
       "      <td>5</td>\n",
       "      <td>0.000000</td>\n",
       "      <td>0.016393</td>\n",
       "      <td>-0.016393</td>\n",
       "      <td>0.0230</td>\n",
       "    </tr>\n",
       "    <tr>\n",
       "      <th>54</th>\n",
       "      <td>France</td>\n",
       "      <td>16</td>\n",
       "      <td>6</td>\n",
       "      <td>0.047904</td>\n",
       "      <td>0.019672</td>\n",
       "      <td>0.028232</td>\n",
       "      <td>0.0387</td>\n",
       "    </tr>\n",
       "    <tr>\n",
       "      <th>58</th>\n",
       "      <td>Yemen</td>\n",
       "      <td>0</td>\n",
       "      <td>9</td>\n",
       "      <td>0.000000</td>\n",
       "      <td>0.029508</td>\n",
       "      <td>-0.029508</td>\n",
       "      <td>0.0014</td>\n",
       "    </tr>\n",
       "    <tr>\n",
       "      <th>61</th>\n",
       "      <td>Indo-Pacific</td>\n",
       "      <td>0</td>\n",
       "      <td>7</td>\n",
       "      <td>0.000000</td>\n",
       "      <td>0.022951</td>\n",
       "      <td>-0.022951</td>\n",
       "      <td>0.0066</td>\n",
       "    </tr>\n",
       "    <tr>\n",
       "      <th>65</th>\n",
       "      <td>Canada</td>\n",
       "      <td>1</td>\n",
       "      <td>8</td>\n",
       "      <td>0.002994</td>\n",
       "      <td>0.026230</td>\n",
       "      <td>-0.023235</td>\n",
       "      <td>0.0134</td>\n",
       "    </tr>\n",
       "    <tr>\n",
       "      <th>68</th>\n",
       "      <td>ISIS</td>\n",
       "      <td>24</td>\n",
       "      <td>10</td>\n",
       "      <td>0.071856</td>\n",
       "      <td>0.032787</td>\n",
       "      <td>0.039069</td>\n",
       "      <td>0.0197</td>\n",
       "    </tr>\n",
       "    <tr>\n",
       "      <th>69</th>\n",
       "      <td>Holy See</td>\n",
       "      <td>0</td>\n",
       "      <td>7</td>\n",
       "      <td>0.000000</td>\n",
       "      <td>0.022951</td>\n",
       "      <td>-0.022951</td>\n",
       "      <td>0.0050</td>\n",
       "    </tr>\n",
       "    <tr>\n",
       "      <th>73</th>\n",
       "      <td>Global Coalition</td>\n",
       "      <td>0</td>\n",
       "      <td>5</td>\n",
       "      <td>0.000000</td>\n",
       "      <td>0.016393</td>\n",
       "      <td>-0.016393</td>\n",
       "      <td>0.0264</td>\n",
       "    </tr>\n",
       "    <tr>\n",
       "      <th>86</th>\n",
       "      <td>South Africa</td>\n",
       "      <td>0</td>\n",
       "      <td>4</td>\n",
       "      <td>0.000000</td>\n",
       "      <td>0.013115</td>\n",
       "      <td>-0.013115</td>\n",
       "      <td>0.0483</td>\n",
       "    </tr>\n",
       "    <tr>\n",
       "      <th>93</th>\n",
       "      <td>Sudan</td>\n",
       "      <td>1</td>\n",
       "      <td>7</td>\n",
       "      <td>0.002994</td>\n",
       "      <td>0.022951</td>\n",
       "      <td>-0.019957</td>\n",
       "      <td>0.0411</td>\n",
       "    </tr>\n",
       "    <tr>\n",
       "      <th>103</th>\n",
       "      <td>Italy</td>\n",
       "      <td>1</td>\n",
       "      <td>8</td>\n",
       "      <td>0.002994</td>\n",
       "      <td>0.026230</td>\n",
       "      <td>-0.023235</td>\n",
       "      <td>0.0132</td>\n",
       "    </tr>\n",
       "    <tr>\n",
       "      <th>110</th>\n",
       "      <td>Ukraine</td>\n",
       "      <td>91</td>\n",
       "      <td>4</td>\n",
       "      <td>0.272455</td>\n",
       "      <td>0.013115</td>\n",
       "      <td>0.259340</td>\n",
       "      <td>0.0000</td>\n",
       "    </tr>\n",
       "    <tr>\n",
       "      <th>111</th>\n",
       "      <td>G-7</td>\n",
       "      <td>18</td>\n",
       "      <td>1</td>\n",
       "      <td>0.053892</td>\n",
       "      <td>0.003279</td>\n",
       "      <td>0.050614</td>\n",
       "      <td>0.0000</td>\n",
       "    </tr>\n",
       "    <tr>\n",
       "      <th>115</th>\n",
       "      <td>Germany</td>\n",
       "      <td>11</td>\n",
       "      <td>21</td>\n",
       "      <td>0.032934</td>\n",
       "      <td>0.068852</td>\n",
       "      <td>-0.035918</td>\n",
       "      <td>0.0263</td>\n",
       "    </tr>\n",
       "  </tbody>\n",
       "</table>\n",
       "</div>"
      ],
      "text/plain": [
       "               entity  trump_count  pompeo_count  trump_prop  pompeo_prop  \\\n",
       "0               China           78            14    0.233533     0.045902   \n",
       "11               Iran           10            63    0.029940     0.206557   \n",
       "14               Iraq            2             8    0.005988     0.026230   \n",
       "22    Pacific Islands            0             4    0.000000     0.013115   \n",
       "26          Venezuela            1            26    0.002994     0.085246   \n",
       "28       Saudi Arabia            3            11    0.008982     0.036066   \n",
       "31             Turkey           33            12    0.098802     0.039344   \n",
       "42               Cuba            1             8    0.002994     0.026230   \n",
       "44              Kurds           24             0    0.071856     0.000000   \n",
       "49                 UN            5            27    0.014970     0.088525   \n",
       "51            Lebanon            0             5    0.000000     0.016393   \n",
       "54             France           16             6    0.047904     0.019672   \n",
       "58              Yemen            0             9    0.000000     0.029508   \n",
       "61       Indo-Pacific            0             7    0.000000     0.022951   \n",
       "65             Canada            1             8    0.002994     0.026230   \n",
       "68               ISIS           24            10    0.071856     0.032787   \n",
       "69           Holy See            0             7    0.000000     0.022951   \n",
       "73   Global Coalition            0             5    0.000000     0.016393   \n",
       "86       South Africa            0             4    0.000000     0.013115   \n",
       "93              Sudan            1             7    0.002994     0.022951   \n",
       "103             Italy            1             8    0.002994     0.026230   \n",
       "110           Ukraine           91             4    0.272455     0.013115   \n",
       "111               G-7           18             1    0.053892     0.003279   \n",
       "115           Germany           11            21    0.032934     0.068852   \n",
       "\n",
       "     prop_difference  prop_p_val  \n",
       "0           0.187631      0.0000  \n",
       "11         -0.176617      0.0000  \n",
       "14         -0.020241      0.0366  \n",
       "22         -0.013115      0.0497  \n",
       "26         -0.082252      0.0000  \n",
       "28         -0.027084      0.0183  \n",
       "31          0.059458      0.0025  \n",
       "42         -0.023235      0.0138  \n",
       "44          0.071856      0.0000  \n",
       "49         -0.073555      0.0000  \n",
       "51         -0.016393      0.0230  \n",
       "54          0.028232      0.0387  \n",
       "58         -0.029508      0.0014  \n",
       "61         -0.022951      0.0066  \n",
       "65         -0.023235      0.0134  \n",
       "68          0.039069      0.0197  \n",
       "69         -0.022951      0.0050  \n",
       "73         -0.016393      0.0264  \n",
       "86         -0.013115      0.0483  \n",
       "93         -0.019957      0.0411  \n",
       "103        -0.023235      0.0132  \n",
       "110         0.259340      0.0000  \n",
       "111         0.050614      0.0000  \n",
       "115        -0.035918      0.0263  "
      ]
     },
     "execution_count": 42,
     "metadata": {},
     "output_type": "execute_result"
    }
   ],
   "source": [
    "entity_df[entity_df.prop_p_val<=0.05]\n",
    "# Entities with significant p-values are those with the biggest difference in count/ proportion (not surprising)"
   ]
  },
  {
   "cell_type": "code",
   "execution_count": 47,
   "metadata": {},
   "outputs": [
    {
     "data": {
      "text/html": [
       "<div>\n",
       "<style scoped>\n",
       "    .dataframe tbody tr th:only-of-type {\n",
       "        vertical-align: middle;\n",
       "    }\n",
       "\n",
       "    .dataframe tbody tr th {\n",
       "        vertical-align: top;\n",
       "    }\n",
       "\n",
       "    .dataframe thead th {\n",
       "        text-align: right;\n",
       "    }\n",
       "</style>\n",
       "<table border=\"1\" class=\"dataframe\">\n",
       "  <thead>\n",
       "    <tr style=\"text-align: right;\">\n",
       "      <th></th>\n",
       "      <th>entity</th>\n",
       "      <th>trump_count</th>\n",
       "      <th>pompeo_count</th>\n",
       "      <th>trump_prop</th>\n",
       "      <th>pompeo_prop</th>\n",
       "      <th>prop_difference</th>\n",
       "      <th>prop_p_val</th>\n",
       "    </tr>\n",
       "  </thead>\n",
       "  <tbody>\n",
       "    <tr>\n",
       "      <th>1</th>\n",
       "      <td>Hizballah</td>\n",
       "      <td>0</td>\n",
       "      <td>2</td>\n",
       "      <td>0.000000</td>\n",
       "      <td>0.006557</td>\n",
       "      <td>-0.006557</td>\n",
       "      <td>0.2273</td>\n",
       "    </tr>\n",
       "    <tr>\n",
       "      <th>2</th>\n",
       "      <td>NATO</td>\n",
       "      <td>7</td>\n",
       "      <td>11</td>\n",
       "      <td>0.020958</td>\n",
       "      <td>0.036066</td>\n",
       "      <td>-0.015107</td>\n",
       "      <td>0.1745</td>\n",
       "    </tr>\n",
       "    <tr>\n",
       "      <th>3</th>\n",
       "      <td>United Arab Emirates</td>\n",
       "      <td>0</td>\n",
       "      <td>1</td>\n",
       "      <td>0.000000</td>\n",
       "      <td>0.003279</td>\n",
       "      <td>-0.003279</td>\n",
       "      <td>0.4747</td>\n",
       "    </tr>\n",
       "    <tr>\n",
       "      <th>4</th>\n",
       "      <td>Serbia</td>\n",
       "      <td>0</td>\n",
       "      <td>1</td>\n",
       "      <td>0.000000</td>\n",
       "      <td>0.003279</td>\n",
       "      <td>-0.003279</td>\n",
       "      <td>0.4874</td>\n",
       "    </tr>\n",
       "    <tr>\n",
       "      <th>5</th>\n",
       "      <td>Colombia</td>\n",
       "      <td>0</td>\n",
       "      <td>3</td>\n",
       "      <td>0.000000</td>\n",
       "      <td>0.009836</td>\n",
       "      <td>-0.009836</td>\n",
       "      <td>0.1069</td>\n",
       "    </tr>\n",
       "    <tr>\n",
       "      <th>...</th>\n",
       "      <td>...</td>\n",
       "      <td>...</td>\n",
       "      <td>...</td>\n",
       "      <td>...</td>\n",
       "      <td>...</td>\n",
       "      <td>...</td>\n",
       "      <td>...</td>\n",
       "    </tr>\n",
       "    <tr>\n",
       "      <th>112</th>\n",
       "      <td>Ecuador</td>\n",
       "      <td>0</td>\n",
       "      <td>3</td>\n",
       "      <td>0.000000</td>\n",
       "      <td>0.009836</td>\n",
       "      <td>-0.009836</td>\n",
       "      <td>0.1080</td>\n",
       "    </tr>\n",
       "    <tr>\n",
       "      <th>113</th>\n",
       "      <td>Israel</td>\n",
       "      <td>12</td>\n",
       "      <td>11</td>\n",
       "      <td>0.035928</td>\n",
       "      <td>0.036066</td>\n",
       "      <td>-0.000137</td>\n",
       "      <td>1.0000</td>\n",
       "    </tr>\n",
       "    <tr>\n",
       "      <th>114</th>\n",
       "      <td>Chile</td>\n",
       "      <td>1</td>\n",
       "      <td>2</td>\n",
       "      <td>0.002994</td>\n",
       "      <td>0.006557</td>\n",
       "      <td>-0.003563</td>\n",
       "      <td>0.4670</td>\n",
       "    </tr>\n",
       "    <tr>\n",
       "      <th>116</th>\n",
       "      <td>Slovakia</td>\n",
       "      <td>0</td>\n",
       "      <td>1</td>\n",
       "      <td>0.000000</td>\n",
       "      <td>0.003279</td>\n",
       "      <td>-0.003279</td>\n",
       "      <td>0.4749</td>\n",
       "    </tr>\n",
       "    <tr>\n",
       "      <th>117</th>\n",
       "      <td>Afghanistan</td>\n",
       "      <td>4</td>\n",
       "      <td>9</td>\n",
       "      <td>0.011976</td>\n",
       "      <td>0.029508</td>\n",
       "      <td>-0.017532</td>\n",
       "      <td>0.1038</td>\n",
       "    </tr>\n",
       "  </tbody>\n",
       "</table>\n",
       "<p>94 rows × 7 columns</p>\n",
       "</div>"
      ],
      "text/plain": [
       "                   entity  trump_count  pompeo_count  trump_prop  pompeo_prop  \\\n",
       "1               Hizballah            0             2    0.000000     0.006557   \n",
       "2                    NATO            7            11    0.020958     0.036066   \n",
       "3    United Arab Emirates            0             1    0.000000     0.003279   \n",
       "4                  Serbia            0             1    0.000000     0.003279   \n",
       "5                Colombia            0             3    0.000000     0.009836   \n",
       "..                    ...          ...           ...         ...          ...   \n",
       "112               Ecuador            0             3    0.000000     0.009836   \n",
       "113                Israel           12            11    0.035928     0.036066   \n",
       "114                 Chile            1             2    0.002994     0.006557   \n",
       "116              Slovakia            0             1    0.000000     0.003279   \n",
       "117           Afghanistan            4             9    0.011976     0.029508   \n",
       "\n",
       "     prop_difference  prop_p_val  \n",
       "1          -0.006557      0.2273  \n",
       "2          -0.015107      0.1745  \n",
       "3          -0.003279      0.4747  \n",
       "4          -0.003279      0.4874  \n",
       "5          -0.009836      0.1069  \n",
       "..               ...         ...  \n",
       "112        -0.009836      0.1080  \n",
       "113        -0.000137      1.0000  \n",
       "114        -0.003563      0.4670  \n",
       "116        -0.003279      0.4749  \n",
       "117        -0.017532      0.1038  \n",
       "\n",
       "[94 rows x 7 columns]"
      ]
     },
     "execution_count": 47,
     "metadata": {},
     "output_type": "execute_result"
    }
   ],
   "source": [
    "entity_df[entity_df.prop_p_val>0.05]\n",
    "# Entities with insignificant p-values are those with smaller observed difference in count/ proportion of tweets\n",
    "# mentioning a given entity (also unsurprising)"
   ]
  },
  {
   "cell_type": "code",
   "execution_count": 51,
   "metadata": {},
   "outputs": [
    {
     "data": {
      "text/plain": [
       "24"
      ]
     },
     "execution_count": 51,
     "metadata": {},
     "output_type": "execute_result"
    }
   ],
   "source": [
    "# Number of entities with significant p-values:\n",
    "sum(entity_df.prop_p_val<=0.05)"
   ]
  },
  {
   "cell_type": "code",
   "execution_count": 53,
   "metadata": {},
   "outputs": [
    {
     "data": {
      "text/plain": [
       "94"
      ]
     },
     "execution_count": 53,
     "metadata": {},
     "output_type": "execute_result"
    }
   ],
   "source": [
    "# Number of entities with insiginificant p-values:\n",
    "sum(entity_df.prop_p_val>0.05)"
   ]
  },
  {
   "cell_type": "code",
   "execution_count": 43,
   "metadata": {},
   "outputs": [
    {
     "data": {
      "text/plain": [
       "0.2033898305084746"
      ]
     },
     "execution_count": 43,
     "metadata": {},
     "output_type": "execute_result"
    }
   ],
   "source": [
    "# 20.33% of entities have statistically significant p-value for difference in proportion of mentions\n",
    "sum(entity_df.prop_p_val<=0.05)/len(entity_df)"
   ]
  },
  {
   "cell_type": "code",
   "execution_count": 45,
   "metadata": {},
   "outputs": [
    {
     "data": {
      "text/plain": [
       "['Hizballah',\n",
       " 'NATO',\n",
       " 'United Arab Emirates',\n",
       " 'Serbia',\n",
       " 'Colombia',\n",
       " 'Ireland',\n",
       " 'Saudia Arabia',\n",
       " 'South Sudan',\n",
       " 'Poland',\n",
       " 'Montenegro',\n",
       " 'North Korea',\n",
       " 'New Zealand',\n",
       " 'Guinea',\n",
       " 'Brazil',\n",
       " 'Greece',\n",
       " 'India',\n",
       " 'Gibraltar',\n",
       " 'IAEA',\n",
       " 'Tunisia',\n",
       " 'Mauritius',\n",
       " 'South Korea',\n",
       " 'Mexico',\n",
       " 'Central Europe',\n",
       " 'Belgium',\n",
       " 'ICC',\n",
       " 'Guatemala',\n",
       " 'Papua New Guinea',\n",
       " 'Caribbean',\n",
       " 'Europe',\n",
       " 'Taliban',\n",
       " 'Japan',\n",
       " 'Egypt',\n",
       " 'Balkans',\n",
       " 'Romania',\n",
       " 'Angola',\n",
       " 'Botswana',\n",
       " 'al-Qaeda',\n",
       " 'Western Balkans',\n",
       " 'OECD',\n",
       " 'Bolivia',\n",
       " 'Panama',\n",
       " 'Russia',\n",
       " 'Asia',\n",
       " 'North Macedonia',\n",
       " 'GCC',\n",
       " 'Federated States of Micronesia',\n",
       " 'Greenland',\n",
       " 'Hong Kong',\n",
       " 'Paris Climate Agreement',\n",
       " 'Norway',\n",
       " 'Indonesia',\n",
       " 'EU',\n",
       " 'Bahamas',\n",
       " 'Denmark',\n",
       " 'Zimbabwe',\n",
       " 'Haiti',\n",
       " 'Latin America',\n",
       " 'Hamas',\n",
       " 'APEC',\n",
       " 'Palestine',\n",
       " 'El Salvador',\n",
       " 'Nicaragua',\n",
       " 'United Kingdom',\n",
       " 'Bahrain',\n",
       " 'Scotland',\n",
       " 'Uganda',\n",
       " 'Jordan',\n",
       " 'Kosovo',\n",
       " 'Bolvia',\n",
       " 'Qatar',\n",
       " 'Central Asia',\n",
       " 'Cyprus',\n",
       " 'North America',\n",
       " 'Sri Lanka',\n",
       " 'Pakistan',\n",
       " 'Tonga',\n",
       " 'Syria',\n",
       " 'Middle East',\n",
       " 'ASEAN',\n",
       " 'OSCE',\n",
       " 'OAS',\n",
       " 'Australia',\n",
       " 'Western Hemisphere',\n",
       " 'Bhutan',\n",
       " 'Argentina',\n",
       " 'Honduras',\n",
       " 'Paraguay',\n",
       " 'Ethiopia',\n",
       " 'Eastern Mediterranean',\n",
       " 'Ecuador',\n",
       " 'Israel',\n",
       " 'Chile',\n",
       " 'Slovakia',\n",
       " 'Afghanistan']"
      ]
     },
     "execution_count": 45,
     "metadata": {},
     "output_type": "execute_result"
    }
   ],
   "source": [
    "# List of entities with insignificant p-values:\n",
    "list(entity_df.entity[entity_df.prop_p_val>0.05])"
   ]
  },
  {
   "cell_type": "code",
   "execution_count": 98,
   "metadata": {},
   "outputs": [],
   "source": [
    "# Export entity dataframe to csv, so I can make appropriate visuals in R:\n",
    "entity_df.to_csv('./entity_df.csv', index = False)"
   ]
  }
 ],
 "metadata": {
  "kernelspec": {
   "display_name": "nlp",
   "language": "python",
   "name": "nlp"
  },
  "language_info": {
   "codemirror_mode": {
    "name": "ipython",
    "version": 3
   },
   "file_extension": ".py",
   "mimetype": "text/x-python",
   "name": "python",
   "nbconvert_exporter": "python",
   "pygments_lexer": "ipython3",
   "version": "3.5.6"
  }
 },
 "nbformat": 4,
 "nbformat_minor": 2
}
